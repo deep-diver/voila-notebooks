{
  "nbformat": 4,
  "nbformat_minor": 0,
  "metadata": {
    "colab": {
      "name": "Untitled11.ipynb",
      "provenance": [],
      "collapsed_sections": []
    },
    "kernelspec": {
      "name": "python3",
      "display_name": "Python 3"
    }
  },
  "cells": [
    {
      "cell_type": "code",
      "metadata": {
        "id": "SsmH9bMWig0z",
        "colab_type": "code",
        "colab": {
          "base_uri": "https://localhost:8080/",
          "height": 452
        },
        "outputId": "0de9ffd4-3d0a-4745-802f-819c0610db7f"
      },
      "source": [
        "!wget --load-cookies /tmp/cookies.txt \"https://docs.google.com/uc?export=download&confirm=$(wget --quiet --save-cookies /tmp/cookies.txt --keep-session-cookies --no-check-certificate 'https://docs.google.com/uc?export=download&id=1M_VmEkqLpR88YtbZmOC4tsRxpg6YJgUz' -O- | sed -rn 's/.*confirm=([0-9A-Za-z_]+).*/\\1\\n/p')&id=1M_VmEkqLpR88YtbZmOC4tsRxpg6YJgUz\" -O export.pkl && rm -rf /tmp/cookies.txt"
      ],
      "execution_count": 6,
      "outputs": [
        {
          "output_type": "stream",
          "text": [
            "--2020-09-02 02:00:27--  https://docs.google.com/uc?export=download&confirm=HCwb&id=1M_VmEkqLpR88YtbZmOC4tsRxpg6YJgUz\n",
            "Resolving docs.google.com (docs.google.com)... 74.125.31.113, 74.125.31.139, 74.125.31.101, ...\n",
            "Connecting to docs.google.com (docs.google.com)|74.125.31.113|:443... connected.\n",
            "HTTP request sent, awaiting response... 302 Moved Temporarily\n",
            "Location: https://doc-0o-9g-docs.googleusercontent.com/docs/securesc/hhkdej35q9on6vrefpihvflibuiugbav/mfcc68tn0v6mkeumar568glmhjvsjfm2/1599012000000/15050189169788178233/12444101535025817050Z/1M_VmEkqLpR88YtbZmOC4tsRxpg6YJgUz?e=download [following]\n",
            "--2020-09-02 02:00:27--  https://doc-0o-9g-docs.googleusercontent.com/docs/securesc/hhkdej35q9on6vrefpihvflibuiugbav/mfcc68tn0v6mkeumar568glmhjvsjfm2/1599012000000/15050189169788178233/12444101535025817050Z/1M_VmEkqLpR88YtbZmOC4tsRxpg6YJgUz?e=download\n",
            "Resolving doc-0o-9g-docs.googleusercontent.com (doc-0o-9g-docs.googleusercontent.com)... 173.194.217.132, 2607:f8b0:400c:c13::84\n",
            "Connecting to doc-0o-9g-docs.googleusercontent.com (doc-0o-9g-docs.googleusercontent.com)|173.194.217.132|:443... connected.\n",
            "HTTP request sent, awaiting response... 302 Found\n",
            "Location: https://docs.google.com/nonceSigner?nonce=hqp3t2pa2p8eo&continue=https://doc-0o-9g-docs.googleusercontent.com/docs/securesc/hhkdej35q9on6vrefpihvflibuiugbav/mfcc68tn0v6mkeumar568glmhjvsjfm2/1599012000000/15050189169788178233/12444101535025817050Z/1M_VmEkqLpR88YtbZmOC4tsRxpg6YJgUz?e%3Ddownload&hash=u6ffhs3gshkob5jnbia7oj49vskndj61 [following]\n",
            "--2020-09-02 02:00:27--  https://docs.google.com/nonceSigner?nonce=hqp3t2pa2p8eo&continue=https://doc-0o-9g-docs.googleusercontent.com/docs/securesc/hhkdej35q9on6vrefpihvflibuiugbav/mfcc68tn0v6mkeumar568glmhjvsjfm2/1599012000000/15050189169788178233/12444101535025817050Z/1M_VmEkqLpR88YtbZmOC4tsRxpg6YJgUz?e%3Ddownload&hash=u6ffhs3gshkob5jnbia7oj49vskndj61\n",
            "Connecting to docs.google.com (docs.google.com)|74.125.31.113|:443... connected.\n",
            "HTTP request sent, awaiting response... 302 Found\n",
            "Location: https://doc-0o-9g-docs.googleusercontent.com/docs/securesc/hhkdej35q9on6vrefpihvflibuiugbav/mfcc68tn0v6mkeumar568glmhjvsjfm2/1599012000000/15050189169788178233/12444101535025817050Z/1M_VmEkqLpR88YtbZmOC4tsRxpg6YJgUz?e=download&nonce=hqp3t2pa2p8eo&user=12444101535025817050Z&hash=valvj915u0311or5gb4jgmitsff42suv [following]\n",
            "--2020-09-02 02:00:27--  https://doc-0o-9g-docs.googleusercontent.com/docs/securesc/hhkdej35q9on6vrefpihvflibuiugbav/mfcc68tn0v6mkeumar568glmhjvsjfm2/1599012000000/15050189169788178233/12444101535025817050Z/1M_VmEkqLpR88YtbZmOC4tsRxpg6YJgUz?e=download&nonce=hqp3t2pa2p8eo&user=12444101535025817050Z&hash=valvj915u0311or5gb4jgmitsff42suv\n",
            "Connecting to doc-0o-9g-docs.googleusercontent.com (doc-0o-9g-docs.googleusercontent.com)|173.194.217.132|:443... connected.\n",
            "HTTP request sent, awaiting response... 200 OK\n",
            "Length: unspecified [application/x-zip]\n",
            "Saving to: ‘export.pkl’\n",
            "\n",
            "export.pkl              [      <=>           ]  83.50M  60.4MB/s    in 1.4s    \n",
            "\n",
            "2020-09-02 02:00:29 (60.4 MB/s) - ‘export.pkl’ saved [87552361]\n",
            "\n"
          ],
          "name": "stdout"
        }
      ]
    },
    {
      "cell_type": "code",
      "metadata": {
        "id": "rbi_7_7XixMl",
        "colab_type": "code",
        "colab": {
          "base_uri": "https://localhost:8080/",
          "height": 321
        },
        "outputId": "6936974d-7f2b-478c-d84f-13d1c1b14405"
      },
      "source": [
        "from fastai.vision.all import *\n",
        "from fastai.vision.widgets import *"
      ],
      "execution_count": 7,
      "outputs": [
        {
          "output_type": "error",
          "ename": "ModuleNotFoundError",
          "evalue": "ignored",
          "traceback": [
            "\u001b[0;31m---------------------------------------------------------------------------\u001b[0m",
            "\u001b[0;31mModuleNotFoundError\u001b[0m                       Traceback (most recent call last)",
            "\u001b[0;32m<ipython-input-7-d2d29be66561>\u001b[0m in \u001b[0;36m<module>\u001b[0;34m()\u001b[0m\n\u001b[0;32m----> 1\u001b[0;31m \u001b[0;32mfrom\u001b[0m \u001b[0mfastai\u001b[0m\u001b[0;34m.\u001b[0m\u001b[0mvision\u001b[0m\u001b[0;34m.\u001b[0m\u001b[0mall\u001b[0m \u001b[0;32mimport\u001b[0m \u001b[0;34m*\u001b[0m\u001b[0;34m\u001b[0m\u001b[0;34m\u001b[0m\u001b[0m\n\u001b[0m\u001b[1;32m      2\u001b[0m \u001b[0;32mfrom\u001b[0m \u001b[0mfastai\u001b[0m\u001b[0;34m.\u001b[0m\u001b[0mvision\u001b[0m\u001b[0;34m.\u001b[0m\u001b[0mwidgets\u001b[0m \u001b[0;32mimport\u001b[0m \u001b[0;34m*\u001b[0m\u001b[0;34m\u001b[0m\u001b[0;34m\u001b[0m\u001b[0m\n",
            "\u001b[0;31mModuleNotFoundError\u001b[0m: No module named 'fastai.vision.all'",
            "",
            "\u001b[0;31m---------------------------------------------------------------------------\u001b[0;32m\nNOTE: If your import is failing due to a missing package, you can\nmanually install dependencies using either !pip or !apt.\n\nTo view examples of installing some common dependencies, click the\n\"Open Examples\" button below.\n\u001b[0;31m---------------------------------------------------------------------------\u001b[0m\n"
          ]
        }
      ]
    },
    {
      "cell_type": "code",
      "metadata": {
        "id": "rRzJZOhejtaN",
        "colab_type": "code",
        "colab": {}
      },
      "source": [
        "learn_inf = load_learner('export.pkl')"
      ],
      "execution_count": null,
      "outputs": []
    },
    {
      "cell_type": "code",
      "metadata": {
        "id": "AKRxzlrwjYO6",
        "colab_type": "code",
        "colab": {}
      },
      "source": [
        "btn_upload = widgets.FileUpload()"
      ],
      "execution_count": null,
      "outputs": []
    },
    {
      "cell_type": "code",
      "metadata": {
        "id": "UvhJ02FjjkcP",
        "colab_type": "code",
        "colab": {}
      },
      "source": [
        "lbl_pred = widgets.Label()\n",
        "lbl_pred.value = f'Prediction: {pred}; Probability: {probs[pred_idx]:.04f}'"
      ],
      "execution_count": null,
      "outputs": []
    },
    {
      "cell_type": "code",
      "metadata": {
        "id": "M-M0baCFjlwh",
        "colab_type": "code",
        "colab": {}
      },
      "source": [
        "def on_click_classify(change):\n",
        "  img = PILImage.create(btn_upload.data[-1])\n",
        "  out_pl.clear_output()\n",
        "  with out_pl: display(img.to_thumb(256,256))\n",
        "  pred,pred_idx,probs = learn_inf.predict(img)\n",
        "  lbl_pred.value = f'Prediction: {pred}; Probability: {probs[pred_idx]:.04f}'\n",
        "\n",
        "btn_run = widgets.Button(description='Classify')\n",
        "btn_run.on_click(on_click_classify)"
      ],
      "execution_count": null,
      "outputs": []
    },
    {
      "cell_type": "code",
      "metadata": {
        "id": "CsykWRu-joBo",
        "colab_type": "code",
        "colab": {}
      },
      "source": [
        "VBox([widgets.Label('Select your disney character!'),\n",
        "btn_upload, btn_run, out_pl, lbl_pred])"
      ],
      "execution_count": null,
      "outputs": []
    }
  ]
}